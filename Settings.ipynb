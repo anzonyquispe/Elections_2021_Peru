{
 "cells": [
  {
   "cell_type": "markdown",
   "metadata": {},
   "source": [
    "## Folder creation\n"
   ]
  },
  {
   "cell_type": "code",
   "execution_count": 3,
   "metadata": {},
   "outputs": [],
   "source": [
    "import os"
   ]
  },
  {
   "cell_type": "code",
   "execution_count": 4,
   "metadata": {},
   "outputs": [],
   "source": [
    "try:\n",
    "    os.makedirs(\"A_MicroData\" ,exist_ok=True )\n",
    "    os.makedirs(\"B_RawData\" ,exist_ok=True)\n",
    "    os.makedirs(\"C_Programs\" ,exist_ok=True)\n",
    "    os.makedirs(\"D_Results\" ,exist_ok=True)\n",
    "    os.makedirs(\"E_Estimates\" ,exist_ok=True)\n",
    "    os.makedirs(\"F_Figures\" , exist_ok=True)\n",
    "    os.makedirs(\"G_Tables\" , exist_ok=True)\n",
    "    os.makedirs(\"H_Literature\" , exist_ok=True )\n",
    "    \n",
    "except FileExistsError:\n",
    "    print(\"Exist\")"
   ]
  },
  {
   "cell_type": "markdown",
   "metadata": {},
   "source": [
    "## Check if folder already exists "
   ]
  },
  {
   "cell_type": "code",
   "execution_count": 15,
   "metadata": {},
   "outputs": [],
   "source": [
    "Folders =[\"A_MicroData\" , \"B_RawData\", \"C_Programs\", \"D_Results\", \"E_Estimates\" , \"F_Figures\" , \"G_Tables\" , \"H_Literature\"]"
   ]
  },
  {
   "cell_type": "code",
   "execution_count": 16,
   "metadata": {},
   "outputs": [
    {
     "name": "stdout",
     "output_type": "stream",
     "text": [
      "The folder A_MicroData already exists.\n",
      "The folder B_RawData already exists.\n",
      "The folder C_Programs already exists.\n",
      "The folder D_Results already exists.\n",
      "The folder E_Estimates already exists.\n",
      "The folder F_Figures already exists.\n",
      "The folder G_Tables already exists.\n",
      "The folder H_Literature already exists.\n"
     ]
    }
   ],
   "source": [
    "for folder_name in Folders:\n",
    "    \n",
    "    path_folders = './'\n",
    "    path = os.path.join( path_folders , folder_name)\n",
    "\n",
    "    try:\n",
    "        os.mkdir(path)\n",
    "    except FileExistsError:\n",
    "        print( f\"The folder {folder_name} already exists.\")"
   ]
  },
  {
   "cell_type": "code",
   "execution_count": null,
   "metadata": {},
   "outputs": [],
   "source": []
  }
 ],
 "metadata": {
  "hide_input": false,
  "kernelspec": {
   "display_name": "Python 3",
   "language": "python",
   "name": "python3"
  },
  "language_info": {
   "codemirror_mode": {
    "name": "ipython",
    "version": 3
   },
   "file_extension": ".py",
   "mimetype": "text/x-python",
   "name": "python",
   "nbconvert_exporter": "python",
   "pygments_lexer": "ipython3",
   "version": "3.8.6"
  }
 },
 "nbformat": 4,
 "nbformat_minor": 4
}
